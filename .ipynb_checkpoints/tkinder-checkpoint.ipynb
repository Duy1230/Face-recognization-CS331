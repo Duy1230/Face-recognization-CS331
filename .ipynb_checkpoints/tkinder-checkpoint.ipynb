{
 "cells": [
  {
   "cell_type": "code",
   "execution_count": 1,
   "metadata": {},
   "outputs": [],
   "source": [
    "import cv2\n",
    "import tkinter as tk\n",
    "from tkinter import filedialog\n",
    "import ttkbootstrap as ttk\n",
    "from ttkbootstrap.constants import *\n",
    "from PIL import ImageTk, Image  "
   ]
  },
  {
   "cell_type": "code",
   "execution_count": 11,
   "metadata": {},
   "outputs": [],
   "source": [
    "class CameraApp:\n",
    "    def __init__(self, window, window_title):\n",
    "        self.window = window\n",
    "        self.window.title(window_title)\n",
    "        \n",
    "        self.video_source = 0\n",
    "        self.vid = cv2.VideoCapture(self.video_source)\n",
    "        \n",
    "        #Main window size\n",
    "        self.width = 720\n",
    "        self.height = 480\n",
    "        self.window.geometry(f\"{self.width}x{self.height}\")\n",
    "\n",
    "        self.vidWidth = 360\n",
    "        self.vidHeight= 360\n",
    "        self.vidX = 0\n",
    "        self.vidY = 0\n",
    "    \n",
    "        #Set theme\n",
    "        self.style = ttk.Style(theme='superhero')\n",
    "\n",
    "        self.canvas = tk.Canvas(window, width=self.vidWidth, height=self.vidHeight)\n",
    "        self.canvas.pack()\n",
    "\n",
    "        self.btn_open_camera = ttk.Button(window, text=\"Open Camera\", width=20, command=self.open_camera, bootstyle=SUCCESS)\n",
    "        self.btn_open_camera.pack(anchor=tk.CENTER, expand=True)\n",
    "        \n",
    "        self.btn_close = ttk.Button(window, text=\"Close\", width=20, command=self.close_window, bootstyle=SUCCESS)\n",
    "        self.btn_close.pack(anchor=tk.CENTER, expand=True)\n",
    "\n",
    "        self.delay = 10\n",
    "        self.update()\n",
    "\n",
    "\n",
    "    def open_camera(self):\n",
    "        if not self.vid.isOpened():\n",
    "            self.vid = cv2.VideoCapture(self.video_source)\n",
    "\n",
    "    def update(self):\n",
    "        ret, frame = self.vid.read()\n",
    "        if ret:\n",
    "            frame = cv2.cvtColor(frame, cv2.COLOR_BGR2RGB)\n",
    "            self.photo = ImageTk.PhotoImage(image=Image.fromarray(cv2.resize(frame, (self.vidWidth, self.vidHeight))))\n",
    "            self.canvas.create_image(self.vidX, self.vidY, image=self.photo, anchor=tk.NW)\n",
    "        self.window.after(self.delay, self.update)\n",
    "\n",
    "    def set_video_size(self, width, height):\n",
    "        self.vidWidth = width\n",
    "        self.vidHeight = height\n",
    "        self.canvas.config(vidWidth=self.vidWidth, height=self.vidHeight)\n",
    "\n",
    "    def set_video_position(self, x, y):\n",
    "        self.vidX = x\n",
    "        self.vidY = y\n",
    "    \n",
    "    def set_window_size(self, width, height):\n",
    "        self.width = width\n",
    "        self.height = height\n",
    "        self.window.geometry(f\"{self.width}x{self.height}\")\n",
    "\n",
    "\n",
    "    def load_background_image(self, image_path):\n",
    "        background_image = Image.open(image_path)\n",
    "        background_photo = ImageTk.PhotoImage(background_image)\n",
    "        self.canvas.create_image(0, 0, image=background_photo, anchor=tk.NW)\n",
    "\n",
    "    def close_window(self):\n",
    "        if self.vid.isOpened():\n",
    "            self.vid.release()\n",
    "        self.window.destroy()\n",
    "\n",
    "    def run(self):\n",
    "        self.window.mainloop()\n",
    "\n"
   ]
  },
  {
   "cell_type": "code",
   "execution_count": 12,
   "metadata": {},
   "outputs": [],
   "source": [
    "root = tk.Tk()\n",
    "app = CameraApp(root, \"Camera App\")\n",
    "app.load_background_image('woman.png')\n",
    "app.run()"
   ]
  },
  {
   "cell_type": "code",
   "execution_count": 18,
   "metadata": {},
   "outputs": [],
   "source": []
  },
  {
   "cell_type": "code",
   "execution_count": null,
   "metadata": {},
   "outputs": [],
   "source": []
  }
 ],
 "metadata": {
  "kernelspec": {
   "display_name": "Python 3",
   "language": "python",
   "name": "python3"
  },
  "language_info": {
   "codemirror_mode": {
    "name": "ipython",
    "version": 3
   },
   "file_extension": ".py",
   "mimetype": "text/x-python",
   "name": "python",
   "nbconvert_exporter": "python",
   "pygments_lexer": "ipython3",
   "version": "3.12.2"
  }
 },
 "nbformat": 4,
 "nbformat_minor": 2
}
